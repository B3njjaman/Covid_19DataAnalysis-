{
 "cells": [
  {
   "cell_type": "markdown",
   "metadata": {},
   "source": [
    "# Informe numero 1:\n",
    "## Mineria de Datos \n",
    "### Bigquerys, APIS, DataFrames \n",
    "\n",
    "Este informe presenta un análisis exhaustivo de los datos relacionados con COVID-19 utilizando conjuntos de datos públicos disponibles en BigQuery. El análisis se divide en varias etapas, que incluyen la exploración de datos, la limpieza y transformación de datos, la visualización de datos, el análisis e interpretación de resultados, y la entrega y documentación del proyecto.\n",
    "\n",
    "\n"
   ]
  },
  {
   "cell_type": "markdown",
   "metadata": {},
   "source": [
    "### Resultados: \n",
    "\n",
    "#### Grafico numero uno: \n",
    "Densidad de los caso totales por el mundo.\n",
    "\n",
    "\n",
    "\n",
    "![Densidad de los casos totales en el mundo](solemne1_images/Grafico_mapa.png)"
   ]
  },
  {
   "cell_type": "markdown",
   "metadata": {},
   "source": [
    "### Grafico numero 2: \n",
    "\n",
    "Regresion plot: \n",
    "\n",
    "![Regresion entre Casos totales y Poblacion](Solemne1_images/Regresion_plot.png)"
   ]
  }
 ],
 "metadata": {
  "kernelspec": {
   "display_name": "Python 3",
   "language": "python",
   "name": "python3"
  },
  "language_info": {
   "codemirror_mode": {
    "name": "ipython",
    "version": 3
   },
   "file_extension": ".py",
   "mimetype": "text/x-python",
   "name": "python",
   "nbconvert_exporter": "python",
   "pygments_lexer": "ipython3",
   "version": "3.12.3"
  }
 },
 "nbformat": 4,
 "nbformat_minor": 2
}
