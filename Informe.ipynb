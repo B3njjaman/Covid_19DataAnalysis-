{
 "cells": [
  {
   "cell_type": "markdown",
   "metadata": {},
   "source": [
    "# Informe numero 1:\n",
    "## Mineria de Datos \n",
    "### Bigquerys, APIS, DataFrames \n",
    "\n",
    "Este informe presenta un análisis exhaustivo de los datos relacionados con COVID-19 utilizando conjuntos de datos públicos disponibles en BigQuery. El análisis se divide en varias etapas, que incluyen la exploración de datos, la limpieza y transformación de datos, la visualización de datos, el análisis e interpretación de resultados, y la entrega y documentación del proyecto.\n",
    "\n",
    "\n"
   ]
  },
  {
   "cell_type": "markdown",
   "metadata": {},
   "source": [
    "### Resultados: \n",
    "\n",
    "#### Grafico numero uno: \n",
    "Densidad de los caso totales por el mundo.\n",
    "\n",
    "\n",
    "\n",
    "<img src=\"solemne1_images/Grafico_mapa.png\" width=\"825\" height=\"790\" style=\"margin: 8px;\"><img src=\"solemne1_images/Paisesmascontagiados.png\" width=\"500\" height=\"400\">\n"
   ]
  },
  {
   "cell_type": "markdown",
   "metadata": {},
   "source": [
    "### Grafico numero 2: \n",
    "\n",
    "Regresion plot: \n",
    "\n",
    "![Regresion entre Casos totales y Poblacion](Solemne1_images/Regresion_plot.png)"
   ]
  },
  {
   "cell_type": "markdown",
   "metadata": {},
   "source": [
    "### Grafico 3 \n",
    "\n",
    "Casos Diarios v/s Muertes Diarias \n",
    "\n",
    "\n",
    "<img src=\"Solemne1_images\\Casosdiarios_vs_muertesdiarias.png\" width=\"400\" height=\"400\">"
   ]
  },
  {
   "cell_type": "markdown",
   "metadata": {},
   "source": [
    "### Grafico 4\n",
    "\n",
    "Tasa de mortalidad en $%$ en el top 10 paises mas contagiados. \n",
    "\n",
    "\n",
    " \n",
    "\n",
    "<img src=\"Solemne1_images\\Tasamortalidad2.png\" width=\"500\" height=\"400\">\n",
    "\n",
    "<img src=\"Solemne1_images\\Tasamortaldad.png\" width=\"550\" height=\"400\">"
   ]
  },
  {
   "cell_type": "markdown",
   "metadata": {},
   "source": [
    "### Grafico 5: \n",
    "\n",
    "Casos diarios en Chile \n",
    "\n",
    "<img src=\"Solemne1_images\\plot_chilito.png\" width=\"500\" height=\"300\">\n",
    "<img src=\"Solemne1_images\\Promediochile.png\" width=\"300\" height=\"100\">"
   ]
  },
  {
   "cell_type": "markdown",
   "metadata": {},
   "source": [
    "## Analisis de datos: \n",
    "\n",
    "### 1 y 2) Densidad de los casos totales por el mundo: \n",
    "\n",
    "Al examinar los datos proporcionados, se observa que Estados Unidos encabeza la lista con un total de 16,256,754 casos confirmados, seguido de India con 9,884,100 casos, Brasil con 6,901,952 casos y Rusia con 2,653,928 casos. Esta distribución refleja la propagación global del virus y se encuentra un leve correlacion entre la cantidad de habitantes.\n",
    "\n",
    "La relacion relacion de Pearson entre las variables que se analizaron (Casos totales, Cantidad de Habitantes) no fue lo que se esperaba, ya que esta arrojo un valor de $P = 0.47$ lo que no quiere decir que la relacion no es muy fuerte. Esto pude ser causa de que los datos analizados no son de cuando la enfermedad se encontraba en su pick, puesto que solo estamos viendo datos hasta el 12 de diciembre del año 2020.\n",
    "\n",
    "Una métrica adicional utilizada para analizar la situación es la escalabilidad de los casos confirmados. Esta medida ajusta los casos por cada mil habitantes, permitiendo una comparación más equitativa entre países con diferentes poblaciones. De acuerdo con esta métrica, Estados Unidos presenta 1625.6754 casos confirmados por cada mil habitantes, mientras que India tiene 988.41 casos por cada mil habitantes, Brasil 690.1952 casos por cada mil habitantes, y Rusia 265.3928 casos por cada mil habitantes.\n",
    "\n",
    "El análisis de estos datos destaca la complejidad y la magnitud del desafío que enfrentó la comunidad global en la lucha contra la COVID-19. \n",
    "\n"
   ]
  },
  {
   "cell_type": "markdown",
   "metadata": {},
   "source": [
    "### 3 y 4) Tasa de mortalidad y contagios/muertes diarias. \n",
    "\n",
    "\n",
    "Además, al examinar la relación entre los casos diarios y las muertes diarias, se observa una discrepancia notable. A pesar del rápido aumento en los casos diarios totales en todo el mundo, las muertes diarias no muestran un crecimiento proporcionalmente significativo en el mismo período de tiempo. Esta discrepancia sugiere que la enfermedad es mucho más contagiosa que mortal, lo que se refleja en la disparidad entre las tasas de casos y las tasas de mortalidad.\n",
    "\n",
    "Este hallazgo subraya la importancia de comprender la gravedad relativa de la enfermedad y la necesidad de medidas de salud pública para contener la propagación del virus y proteger a las poblaciones vulnerables.\n",
    "\n",
    "En cuanto a la tasa de mortalidad, el análisis revela un promedio global del 0.018, lo que se traduce en una tasa de mortalidad del 1.8%. Sin embargo, es crucial tener en cuenta las variaciones significativas en la mortalidad entre diferentes países. Por ejemplo, Italia muestra la tasa de mortalidad más alta con un 3.4%, seguida de cerca por el Reino Unido. Estas disparidades destacan la importancia de los factores contextuales y las capacidades del sistema de salud en la gestión de la pandemia y la prevención de muertes.\n",
    "\n",
    "\n",
    "\n",
    "\n",
    "\n",
    "\n"
   ]
  },
  {
   "cell_type": "markdown",
   "metadata": {},
   "source": [
    "### 5) Grafico de los casos diarios de chile. \n",
    "\n",
    "Lo que se puede decir es que La identificación del día con más contagios proporciona una perspectiva de los momentos críticos de la pandemia en Chile durante el año 2020. El promedio de contagios diarios muestra la tendencia general de la propagación la cual tuvo un valor de 1834 casos diarios, mientras que el dia de mas contagio corresponden al 8 de junio de 2020. La alta varianza y desviación estándar sugieren que la situación de la pandemia en Chile fue dinámica y sujeta a cambios rápidos a lo largo del año, lo que subraya la importancia de una vigilancia epidemiológica constante y la implementación de medidas de control efectivas.\n",
    "\n",
    "\n"
   ]
  }
 ],
 "metadata": {
  "kernelspec": {
   "display_name": "Python 3",
   "language": "python",
   "name": "python3"
  },
  "language_info": {
   "codemirror_mode": {
    "name": "ipython",
    "version": 3
   },
   "file_extension": ".py",
   "mimetype": "text/x-python",
   "name": "python",
   "nbconvert_exporter": "python",
   "pygments_lexer": "ipython3",
   "version": "3.12.3"
  }
 },
 "nbformat": 4,
 "nbformat_minor": 2
}
