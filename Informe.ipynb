{
 "cells": [
  {
   "cell_type": "markdown",
   "metadata": {},
   "source": [
    "# Informe numero 1:\n",
    "## Mineria de Datos \n",
    "### Bigquerys, APIS, DataFrames \n",
    "\n",
    "Este informe presenta un análisis exhaustivo de los datos relacionados con COVID-19 utilizando conjuntos de datos públicos disponibles en BigQuery. El análisis se divide en varias etapas, que incluyen la exploración de datos, la limpieza y transformación de datos, la visualización de datos, el análisis e interpretación de resultados, y la entrega y documentación del proyecto.\n",
    "\n",
    "\n"
   ]
  },
  {
   "cell_type": "code",
   "execution_count": null,
   "metadata": {},
   "outputs": [],
   "source": []
  },
  {
   "cell_type": "markdown",
   "metadata": {},
   "source": []
  }
 ],
 "metadata": {
  "language_info": {
   "name": "python"
  }
 },
 "nbformat": 4,
 "nbformat_minor": 2
}
