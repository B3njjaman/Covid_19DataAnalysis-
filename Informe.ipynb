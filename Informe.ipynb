{
 "cells": [
  {
   "cell_type": "markdown",
   "metadata": {},
   "source": [
    "# Informe numero 1:\n",
    "## Mineria de Datos \n",
    "### Bigquerys, APIS, DataFrames \n",
    "\n",
    "Este informe presenta un análisis exhaustivo de los datos relacionados con COVID-19 utilizando conjuntos de datos públicos disponibles en BigQuery. El análisis se divide en varias etapas, que incluyen la exploración de datos, la limpieza y transformación de datos, la visualización de datos, el análisis e interpretación de resultados, y la entrega y documentación del proyecto.\n",
    "\n",
    "\n"
   ]
  },
  {
   "cell_type": "markdown",
   "metadata": {},
   "source": [
    "### Resultados: \n",
    "\n",
    "#### Grafico numero uno: \n",
    "Densidad de los caso totales por el mundo.\n",
    "\n",
    "\n",
    "\n",
    "<img src=\"solemne1_images/Grafico_mapa.png\" width=\"500\" height=\"200\">\n",
    "<img src=\"solemne1_images/Paisesmascontagiados.png\" width=\"500\" height=\"200\">\n"
   ]
  },
  {
   "cell_type": "markdown",
   "metadata": {},
   "source": [
    "### Grafico numero 2: \n",
    "\n",
    "Regresion plot: \n",
    "\n",
    "![Regresion entre Casos totales y Poblacion](Solemne1_images/Regresion_plot.png)"
   ]
  },
  {
   "cell_type": "markdown",
   "metadata": {},
   "source": [
    "### Grafico 3 \n",
    "\n",
    "Casos Diarios v/s Muertes Diarias \n",
    "\n",
    "\n",
    "<img src=\"Solemne1_images\\Casosdiarios_vs_muertesdiarias.png\" width=\"400\" height=\"400\">"
   ]
  },
  {
   "cell_type": "markdown",
   "metadata": {},
   "source": [
    "### Grafico 4\n",
    "\n",
    "Tasa de mortalidad en $%$ en el top 10 paises mas contagiados. \n",
    "\n",
    "\n",
    " \n",
    "\n",
    "\n",
    "<img src=\"Solemne1_images\\Tasamortaldad.png\" width=\"550\" height=\"400\">"
   ]
  },
  {
   "cell_type": "markdown",
   "metadata": {},
   "source": [
    "### Grafico 5: \n",
    "\n",
    "Casos diarios en Chile \n",
    "\n",
    "<img src=\"Solemne1_images\\plot_chilito.png\" width=\"500\" height=\"400\">"
   ]
  },
  {
   "cell_type": "markdown",
   "metadata": {},
   "source": [
    "## Analisis de datos: \n",
    "\n",
    "### 1) Densidad de los casos totales por el mundo: \n",
    "\n",
    "Al examinar los datos proporcionados, se observa que Estados Unidos de América encabeza la lista con un total de 16,256,754 casos confirmados, seguido de India con 9,884,100 casos, Brasil con 6,901,952 casos y Rusia con 2,653,928 casos. Esta distribución refleja la propagación global del virus y destaca la gravedad de la situación en los países mencionados.\n",
    "\n",
    "Una métrica adicional utilizada para analizar la situación es la escalabilidad de los casos confirmados. Esta medida ajusta los casos por cada mil habitantes, permitiendo una comparación más equitativa entre países con diferentes poblaciones. De acuerdo con esta métrica, Estados Unidos presenta 1625.6754 casos confirmados por cada mil habitantes, mientras que India tiene 988.41 casos por cada mil habitantes, Brasil 690.1952 casos por cada mil habitantes, y Rusia 265.3928 casos por cada mil habitantes.\n",
    "\n",
    "El análisis de estos datos destaca la complejidad y la magnitud del desafío que enfrentó la comunidad global en la lucha contra la COVID-19. \n",
    "\n"
   ]
  },
  {
   "cell_type": "markdown",
   "metadata": {},
   "source": []
  }
 ],
 "metadata": {
  "kernelspec": {
   "display_name": "Python 3",
   "language": "python",
   "name": "python3"
  },
  "language_info": {
   "codemirror_mode": {
    "name": "ipython",
    "version": 3
   },
   "file_extension": ".py",
   "mimetype": "text/x-python",
   "name": "python",
   "nbconvert_exporter": "python",
   "pygments_lexer": "ipython3",
   "version": "3.12.3"
  }
 },
 "nbformat": 4,
 "nbformat_minor": 2
}
